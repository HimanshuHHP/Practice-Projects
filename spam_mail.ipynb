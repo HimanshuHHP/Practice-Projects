{
 "cells": [
  {
   "cell_type": "markdown",
   "id": "8437650d-a970-4f77-add0-4f3ea18afe64",
   "metadata": {},
   "source": [
    "# Imports"
   ]
  },
  {
   "cell_type": "code",
   "execution_count": 219,
   "id": "25777a19-34c7-4055-a241-10b76a5277ca",
   "metadata": {},
   "outputs": [],
   "source": [
    "from os import walk # walk funtion\n",
    "from os.path import  join # join method\n",
    "import pandas as pd\n",
    "import matplotlib.pyplot as plt\n",
    "import numpy as np\n",
    "import seaborn as sns\n",
    "\n",
    "import nltk\n",
    "from nltk.stem import PorterStemmer\n",
    "from nltk.stem import SnowballStemmer # Other option than PortStremmer\n",
    "from nltk.corpus import stopwords\n",
    "from nltk.tokenize import word_tokenize\n",
    "\n",
    "from bs4 import BeautifulSoup # Removing HTML tags\n",
    "from wordcloud import WordCloud\n",
    "from PIL import Image # PIL(pillow) for image manipulation \n",
    "\n",
    "from sklearn.model_selection import train_test_split\n",
    "\n",
    "%matplotlib inline"
   ]
  },
  {
   "cell_type": "markdown",
   "id": "86019040-bdfa-4b05-829a-d67ed0c94c10",
   "metadata": {},
   "source": [
    "# Constants"
   ]
  },
  {
   "cell_type": "code",
   "execution_count": 221,
   "id": "00adb025-4246-4654-badd-b38faf6a80ed",
   "metadata": {},
   "outputs": [],
   "source": [
    "EXAMPLE_FILE = \"C:/Users/HP/Data Science/ML/SpamData/01_Processing/practice_email.txt\"\n",
    "\n",
    "SPAM_1_PATH = \"C:/Users/HP/Data Science/ML/SpamData/01_Processing/spam_assassin_corpus/spam_1\"\n",
    "SPAM_2_PATH = \"C:/Users/HP/Data Science/ML/SpamData/01_Processing/spam_assassin_corpus/spam_2\"\n",
    "EASY_NONSPAM_1_PATH = \"C:/Users/HP/Data Science/ML/SpamData/01_Processing/spam_assassin_corpus/easy_ham_1\"\n",
    "EASY_NONSPAM_2_PATH = \"C:/Users/HP/Data Science/ML/SpamData/01_Processing/spam_assassin_corpus/easy_ham_2\"\n",
    "\n",
    "SPAM_CAT = 1\n",
    "HAM_CAT = 0\n",
    "VOCAB_SIZE = 2500\n",
    "\n",
    "DATA_JSON_FILE = \"C:/Users/HP/Data Science/ML/email-text-data.json\"\n",
    "WORD_ID_FILE = \"C:/Users/HP/Data Science/ML/word-by-id.csv\"\n",
    "\n",
    "TRAINING_DATA_FILE = \"C:/Users/HP/Data Science/ML/SpamData/02_Training/train-data.txt\"\n",
    "TEST_DATA_FILE = \"C:/Users/HP/Data Science/ML/SpamData/02_Training/test-data.txt\"\n",
    "\n",
    "WHALE_FILE = \"C:/Users/HP/Data Science/ML/SpamData/01_Processing/wordcloud_resources/whale-icon.png\"\n",
    "THUMBS_UP_FILE = \"C:/Users/HP/Data Science/ML/SpamData/01_Processing/wordcloud_resources/thumbs-up.png\"\n",
    "THUMBS_DOWN_FILE = \"C:/Users/HP/Data Science/ML/SpamData/01_Processing/wordcloud_resources/thumbs-down.png\"\n",
    "CUSTOM_FONT_FILE = \"C:/Users/HP/Data Science/ML/SpamData/01_Processing/wordcloud_resources/OpenSansCondensed-Bold.TTF\"\n",
    "\n",
    "TOKEN_SPAM_PROB_FILE = \"C:/Users/HP/Data Science/ML/SpamData/03_Testing/prob-spam.txt\"\n",
    "TOKEN_HAM_PROB_FILE = \"C:/Users/HP/Data Science/ML/SpamData/03_Testing/prob-nonspam.txt\"\n",
    "TOKEN_ALL_PROB_FILE = \"C:/Users/HP/Data Science/ML/SpamData/03_Testing/prob-all-tokens.txt\"\n",
    "\n",
    "TEST_FEATURES_MATRIX = \"C:/Users/HP/Data Science/ML/SpamData/03_Testing/test-features.txt\"\n",
    "TEST_TARGET_FILE = \"C:/Users/HP/Data Science/ML/SpamData/03_Testing/test-target.txt\"\n",
    "\n",
    "VOCAB_SIZE = 2500"
   ]
  },
  {
   "cell_type": "markdown",
   "id": "6b2870e4-7a4c-4fde-af5b-abe4168735c1",
   "metadata": {},
   "source": [
    "# Reading File"
   ]
  },
  {
   "cell_type": "code",
   "execution_count": 19,
   "id": "29021542-2fc5-4802-8cf6-d68518b0da7e",
   "metadata": {},
   "outputs": [
    {
     "name": "stdout",
     "output_type": "stream",
     "text": [
      "<class 'str'>\n",
      "From exmh-workers-admin@redhat.com  Thu Aug 22 12:36:23 2002\n",
      "Return-Path: <exmh-workers-admin@spamassassin.taint.org>\n",
      "Delivered-To: zzzz@localhost.netnoteinc.com\n",
      "Received: from localhost (localhost [127.0.0.1])\n",
      "\tby phobos.labs.netnoteinc.com (Postfix) with ESMTP id D03E543C36\n",
      "\tfor <zzzz@localhost>; Thu, 22 Aug 2002 07:36:16 -0400 (EDT)\n",
      "Received: from phobos [127.0.0.1]\n",
      "\tby localhost with IMAP (fetchmail-5.9.0)\n",
      "\tfor zzzz@localhost (single-drop); Thu, 22 Aug 2002 12:36:16 +0100 (IST)\n",
      "Received: from listman.spamassassin.taint.org (listman.spamassassin.taint.org [66.187.233.211]) by\n",
      "    dogma.slashnull.org (8.11.6/8.11.6) with ESMTP id g7MBYrZ04811 for\n",
      "    <zzzz-exmh@spamassassin.taint.org>; Thu, 22 Aug 2002 12:34:53 +0100\n",
      "Received: from listman.spamassassin.taint.org (localhost.localdomain [127.0.0.1]) by\n",
      "    listman.redhat.com (Postfix) with ESMTP id 8386540858; Thu, 22 Aug 2002\n",
      "    07:35:02 -0400 (EDT)\n",
      "Delivered-To: exmh-workers@listman.spamassassin.taint.org\n",
      "Received: from int-mx1.corp.spamassassin.taint.org (int-mx1.corp.spamassassin.taint.org\n",
      "    [172.16.52.254]) by listman.redhat.com (Postfix) with ESMTP id 10CF8406D7\n",
      "    for <exmh-workers@listman.redhat.com>; Thu, 22 Aug 2002 07:34:10 -0400\n",
      "    (EDT)\n",
      "Received: (from mail@localhost) by int-mx1.corp.spamassassin.taint.org (8.11.6/8.11.6)\n",
      "    id g7MBY7g11259 for exmh-workers@listman.redhat.com; Thu, 22 Aug 2002\n",
      "    07:34:07 -0400\n",
      "Received: from mx1.spamassassin.taint.org (mx1.spamassassin.taint.org [172.16.48.31]) by\n",
      "    int-mx1.corp.redhat.com (8.11.6/8.11.6) with SMTP id g7MBY7Y11255 for\n",
      "    <exmh-workers@redhat.com>; Thu, 22 Aug 2002 07:34:07 -0400\n",
      "Received: from ratree.psu.ac.th ([202.28.97.6]) by mx1.spamassassin.taint.org\n",
      "    (8.11.6/8.11.6) with SMTP id g7MBIhl25223 for <exmh-workers@redhat.com>;\n",
      "    Thu, 22 Aug 2002 07:18:55 -0400\n",
      "Received: from delta.cs.mu.OZ.AU (delta.coe.psu.ac.th [172.30.0.98]) by\n",
      "    ratree.psu.ac.th (8.11.6/8.11.6) with ESMTP id g7MBWel29762;\n",
      "    Thu, 22 Aug 2002 18:32:40 +0700 (ICT)\n",
      "Received: from munnari.OZ.AU (localhost [127.0.0.1]) by delta.cs.mu.OZ.AU\n",
      "    (8.11.6/8.11.6) with ESMTP id g7MBQPW13260; Thu, 22 Aug 2002 18:26:25\n",
      "    +0700 (ICT)\n",
      "From: Robert Elz <kre@munnari.OZ.AU>\n",
      "To: Chris Garrigues <cwg-dated-1030377287.06fa6d@DeepEddy.Com>\n",
      "Cc: exmh-workers@spamassassin.taint.org\n",
      "Subject: Re: New Sequences Window\n",
      "In-Reply-To: <1029945287.4797.TMDA@deepeddy.vircio.com>\n",
      "References: <1029945287.4797.TMDA@deepeddy.vircio.com>\n",
      "    <1029882468.3116.TMDA@deepeddy.vircio.com> <9627.1029933001@munnari.OZ.AU>\n",
      "    <1029943066.26919.TMDA@deepeddy.vircio.com>\n",
      "    <1029944441.398.TMDA@deepeddy.vircio.com>\n",
      "MIME-Version: 1.0\n",
      "Content-Type: text/plain; charset=us-ascii\n",
      "Message-Id: <13258.1030015585@munnari.OZ.AU>\n",
      "X-Loop: exmh-workers@spamassassin.taint.org\n",
      "Sender: exmh-workers-admin@spamassassin.taint.org\n",
      "Errors-To: exmh-workers-admin@spamassassin.taint.org\n",
      "X-Beenthere: exmh-workers@spamassassin.taint.org\n",
      "X-Mailman-Version: 2.0.1\n",
      "Precedence: bulk\n",
      "List-Help: <mailto:exmh-workers-request@spamassassin.taint.org?subject=help>\n",
      "List-Post: <mailto:exmh-workers@spamassassin.taint.org>\n",
      "List-Subscribe: <https://listman.spamassassin.taint.org/mailman/listinfo/exmh-workers>,\n",
      "    <mailto:exmh-workers-request@redhat.com?subject=subscribe>\n",
      "List-Id: Discussion list for EXMH developers <exmh-workers.spamassassin.taint.org>\n",
      "List-Unsubscribe: <https://listman.spamassassin.taint.org/mailman/listinfo/exmh-workers>,\n",
      "    <mailto:exmh-workers-request@redhat.com?subject=unsubscribe>\n",
      "List-Archive: <https://listman.spamassassin.taint.org/mailman/private/exmh-workers/>\n",
      "Date: Thu, 22 Aug 2002 18:26:25 +0700\n",
      "\n",
      "\n",
      "Dear Mr Still\n",
      "\n",
      "Good tidings to you and all your staff for the festive season ahead (Christmas).\n",
      "Now to the crux of the matter-in-hand: I am a fully qualified Santa Claus and am wondering whether you might consider me to run my own \"Santa's Grotto\" in your store.\n",
      "But WAIT! You're probably thinking: \"What makes him so special?\"\n",
      "Well, first of all, I have made several changes to the characterisation of Father Christmas. Rather than greeting the children with shouts of \"Ho, ho, ho!\" I prefer to whisper the phrase \"Dependence is not unfathomable in this cruel world we live in\". In addition, my gifts are ALL hand-made, ranging from felt hoops to vanilla-pod holders.\n",
      "You will note also, from the enclosed sketch, that I have radically redesigned Santa's outfit and have renamed my character \"Lord Buckles\". Would you be interested in employing me? I promise NEVER to let you down.\n",
      "I look forward to hearing from you.\n",
      "\n",
      "Best wishes\n",
      "Robin Cooper\n",
      "[Excerpt from the book: The Timewaster Letters by Robin Cooper]\n",
      "\n"
     ]
    }
   ],
   "source": [
    "stream = open(EXAMPLE_FILE, encoding=\"latin-1\") # Opening the file\n",
    "message = stream.read() # saving the file into a variable\n",
    "stream.close() # Closing the file\n",
    "\n",
    "print(type(message))\n",
    "print(message)"
   ]
  },
  {
   "cell_type": "code",
   "execution_count": 20,
   "id": "f4851566-795e-4c4e-b446-0dd5b5363ff4",
   "metadata": {},
   "outputs": [
    {
     "data": {
      "text/plain": [
       "'utf-8'"
      ]
     },
     "execution_count": 20,
     "metadata": {},
     "output_type": "execute_result"
    }
   ],
   "source": [
    "# used to retrive default encoding used vy the file system\n",
    "import sys\n",
    "sys.getfilesystemencoding()"
   ]
  },
  {
   "cell_type": "markdown",
   "id": "59767232-cd7a-4e7c-83fd-39ee46e8afc4",
   "metadata": {},
   "source": [
    "## Email Body Extraction\n",
    "    "
   ]
  },
  {
   "cell_type": "code",
   "execution_count": 22,
   "id": "00ef9381-271c-455f-bfa9-6b1268c97bd0",
   "metadata": {},
   "outputs": [],
   "source": [
    "def email_body_generator(path):\n",
    "\n",
    "    # walk funtion belong to os library so we have to import it\n",
    "    for root, dirnames, filenames in walk(path): \n",
    "        \n",
    "#\"\"\"walk funtion generate file name in directory by walking the tree from top to bottom and yeld tuples consisting of directory path (root),\n",
    "#directory name (dirname) and file name.\"\"\" \n",
    "\n",
    "        for file_name in filenames:\n",
    "\n",
    "            filepath = join(root,file_name) # targeting a paticular file by combining root and file name\n",
    "            \n",
    "            stream = open(filepath, encoding=\"latin-1\") # using filepath\n",
    "\n",
    "            is_body = False \n",
    "            lines = []\n",
    "            for line in stream:\n",
    "                if is_body: \n",
    "                    lines.append(line)\n",
    "                elif line == \"\\n\": \n",
    "                    is_body = True\n",
    "            \n",
    "            stream.close() \n",
    "\n",
    "            email_body =\"n\".join(lines)\n",
    "\n",
    "            yield file_name, email_body\n",
    "    "
   ]
  },
  {
   "cell_type": "code",
   "execution_count": 61,
   "id": "37665fdf-48c6-47c4-af25-ad55c5fd9a06",
   "metadata": {},
   "outputs": [],
   "source": [
    "# Second piece of code to call generative function\n",
    "# df = dataframe\n",
    "def df_from_directory(path, classification): #classification weather the email is spam or legit\n",
    "    rows = []\n",
    "    row_name = []\n",
    "\n",
    "    for file_name, email_body in email_body_generator(path):\n",
    "        rows.append({\"MESSAGE\": email_body, \"CATEGORY\": classification})\n",
    "        row_name.append(file_name)\n",
    "\n",
    "    return pd.DataFrame(rows, index = row_name)"
   ]
  },
  {
   "cell_type": "code",
   "execution_count": 65,
   "id": "bd627a29-576e-4636-8c37-754919b30e96",
   "metadata": {},
   "outputs": [],
   "source": [
    "#Creating dataframe with spam emails\n",
    "# Lokking in spam_1_path folder\n",
    "spam_1_emails = df_from_directory(SPAM_1_PATH, 1)\n",
    "# loading our other folders\n",
    "spam_2_emails = df_from_directory(SPAM_2_PATH, 1) #overriding spam_email with spam_2_path\n",
    "#Concat both spam\n",
    "spam_result = pd.concat([spam_1_emails, spam_2_emails]) \n"
   ]
  },
  {
   "cell_type": "code",
   "execution_count": 67,
   "id": "b9a04759-ec76-4786-83e9-1012c18aff72",
   "metadata": {},
   "outputs": [
    {
     "data": {
      "text/plain": [
       "(1898, 2)"
      ]
     },
     "execution_count": 67,
     "metadata": {},
     "output_type": "execute_result"
    }
   ],
   "source": [
    "spam_result.shape"
   ]
  },
  {
   "cell_type": "code",
   "execution_count": 69,
   "id": "3f29d1ca-9cc4-42d2-80e9-cf29b1a34395",
   "metadata": {},
   "outputs": [],
   "source": [
    "#Creating dataframe with non-spam emails\n",
    "ham_1_emails = df_from_directory(EASY_NONSPAM_1_PATH, HAM_CAT)\n",
    "ham_2_emails = df_from_directory(EASY_NONSPAM_2_PATH, HAM_CAT)\n",
    "ham_result = pd.concat([ham_1_emails, ham_2_emails])"
   ]
  },
  {
   "cell_type": "code",
   "execution_count": 71,
   "id": "a8145f51-374c-454d-8fbf-b486448e4327",
   "metadata": {},
   "outputs": [],
   "source": [
    "data = pd.concat([spam_result, ham_result])"
   ]
  },
  {
   "cell_type": "markdown",
   "id": "91087e23-7457-4cf4-a80d-e41b7fb8f96b",
   "metadata": {},
   "source": [
    "# Data Cleaning: Checking for missing values"
   ]
  },
  {
   "cell_type": "code",
   "execution_count": 74,
   "id": "e80790be-449a-4577-8264-3b5466c192d9",
   "metadata": {},
   "outputs": [
    {
     "data": {
      "text/plain": [
       "pandas.core.series.Series"
      ]
     },
     "execution_count": 74,
     "metadata": {},
     "output_type": "execute_result"
    }
   ],
   "source": [
    "type(data.MESSAGE.str.len() == 0)"
   ]
  },
  {
   "cell_type": "code",
   "execution_count": 76,
   "id": "fa7310d0-e114-4121-8676-ef20516c6770",
   "metadata": {},
   "outputs": [
    {
     "data": {
      "text/plain": [
       "Index(['cmds', 'cmds', 'cmds'], dtype='object')"
      ]
     },
     "execution_count": 76,
     "metadata": {},
     "output_type": "execute_result"
    }
   ],
   "source": [
    "data[data.MESSAGE.str.len() == 0].index"
   ]
  },
  {
   "cell_type": "code",
   "execution_count": 78,
   "id": "3f2c4fcd-c4d3-48e1-baeb-b6cb033f739f",
   "metadata": {},
   "outputs": [
    {
     "data": {
      "text/plain": [
       "array([False, False, False, ..., False, False, False])"
      ]
     },
     "execution_count": 78,
     "metadata": {},
     "output_type": "execute_result"
    }
   ],
   "source": [
    "data.index.get_loc(\"cmds\")"
   ]
  },
  {
   "cell_type": "markdown",
   "id": "737dab15-0c75-4e86-b9ab-747c16821c4f",
   "metadata": {},
   "source": [
    "## Removing system file entries from the dataframe"
   ]
  },
  {
   "cell_type": "code",
   "execution_count": 81,
   "id": "6f36ae45-9955-4755-b3df-4c5369341406",
   "metadata": {},
   "outputs": [],
   "source": [
    "data.drop([\"cmds\"], inplace=True)"
   ]
  },
  {
   "cell_type": "code",
   "execution_count": 83,
   "id": "d06bf86a-0a3e-4874-92d0-d3d190a19ae1",
   "metadata": {},
   "outputs": [
    {
     "data": {
      "text/plain": [
       "(5796, 2)"
      ]
     },
     "execution_count": 83,
     "metadata": {},
     "output_type": "execute_result"
    }
   ],
   "source": [
    "data.shape"
   ]
  },
  {
   "cell_type": "markdown",
   "id": "08a45bd3-7de8-4250-9fbc-00c95eb988c9",
   "metadata": {},
   "source": [
    "## Add documents ID to track Email in dataset"
   ]
  },
  {
   "cell_type": "code",
   "execution_count": 86,
   "id": "e07d2a4b-2462-4eb3-950c-4dbe8f1348f7",
   "metadata": {},
   "outputs": [],
   "source": [
    "# Generative documents id\n",
    "document_ids = range(0,len(data.index))\n",
    "data[\"DOC_ID\"] = document_ids"
   ]
  },
  {
   "cell_type": "code",
   "execution_count": 88,
   "id": "72bf2bd9-ff76-4e06-90de-951bf3c45fa5",
   "metadata": {},
   "outputs": [
    {
     "data": {
      "text/plain": [
       "00001.7848dde101aa985090474a91ec93fcf0       0\n",
       "00002.d94f1b97e48ed3b553b3508d116e6a09       1\n",
       "00003.2ee33bc6eacdb11f38d052c44819ba6c       2\n",
       "00004.eac8de8d759b7e74154f142194282724       3\n",
       "00005.57696a39d7d84318ce497886896bf90d       4\n",
       "                                          ... \n",
       "01396.61983fbe6ec43f55fd44e30fce24ffa6    5791\n",
       "01397.9f9ef4c2a8dc012d80f2ce2d3473d3b7    5792\n",
       "01398.169b51731fe569f42169ae8f948ec676    5793\n",
       "01399.ca6b00b7b341bbde9a9ea3dd6a7bf896    5794\n",
       "01400.f897f0931e461e7b2e964d28e927c35e    5795\n",
       "Name: DOC_ID, Length: 5796, dtype: int64"
      ]
     },
     "execution_count": 88,
     "metadata": {},
     "output_type": "execute_result"
    }
   ],
   "source": [
    "data.DOC_ID"
   ]
  },
  {
   "cell_type": "code",
   "execution_count": 90,
   "id": "00a66d49-15fd-48fc-9fef-f56c1b9db522",
   "metadata": {},
   "outputs": [
    {
     "data": {
      "text/html": [
       "<div>\n",
       "<style scoped>\n",
       "    .dataframe tbody tr th:only-of-type {\n",
       "        vertical-align: middle;\n",
       "    }\n",
       "\n",
       "    .dataframe tbody tr th {\n",
       "        vertical-align: top;\n",
       "    }\n",
       "\n",
       "    .dataframe thead th {\n",
       "        text-align: right;\n",
       "    }\n",
       "</style>\n",
       "<table border=\"1\" class=\"dataframe\">\n",
       "  <thead>\n",
       "    <tr style=\"text-align: right;\">\n",
       "      <th></th>\n",
       "      <th>MESSAGE</th>\n",
       "      <th>CATEGORY</th>\n",
       "      <th>FILE_NAME</th>\n",
       "    </tr>\n",
       "    <tr>\n",
       "      <th>DOC_ID</th>\n",
       "      <th></th>\n",
       "      <th></th>\n",
       "      <th></th>\n",
       "    </tr>\n",
       "  </thead>\n",
       "  <tbody>\n",
       "    <tr>\n",
       "      <th>0</th>\n",
       "      <td>&lt;!DOCTYPE HTML PUBLIC \"-//W3C//DTD HTML 4.0 Tr...</td>\n",
       "      <td>1</td>\n",
       "      <td>00001.7848dde101aa985090474a91ec93fcf0</td>\n",
       "    </tr>\n",
       "    <tr>\n",
       "      <th>1</th>\n",
       "      <td>1) Fight The Risk of Cancer!\\nnhttp://www.adcl...</td>\n",
       "      <td>1</td>\n",
       "      <td>00002.d94f1b97e48ed3b553b3508d116e6a09</td>\n",
       "    </tr>\n",
       "    <tr>\n",
       "      <th>2</th>\n",
       "      <td>1) Fight The Risk of Cancer!\\nnhttp://www.adcl...</td>\n",
       "      <td>1</td>\n",
       "      <td>00003.2ee33bc6eacdb11f38d052c44819ba6c</td>\n",
       "    </tr>\n",
       "    <tr>\n",
       "      <th>3</th>\n",
       "      <td>##############################################...</td>\n",
       "      <td>1</td>\n",
       "      <td>00004.eac8de8d759b7e74154f142194282724</td>\n",
       "    </tr>\n",
       "    <tr>\n",
       "      <th>4</th>\n",
       "      <td>I thought you might like these:\\nn1) Slim Down...</td>\n",
       "      <td>1</td>\n",
       "      <td>00005.57696a39d7d84318ce497886896bf90d</td>\n",
       "    </tr>\n",
       "  </tbody>\n",
       "</table>\n",
       "</div>"
      ],
      "text/plain": [
       "                                                  MESSAGE  CATEGORY  \\\n",
       "DOC_ID                                                                \n",
       "0       <!DOCTYPE HTML PUBLIC \"-//W3C//DTD HTML 4.0 Tr...         1   \n",
       "1       1) Fight The Risk of Cancer!\\nnhttp://www.adcl...         1   \n",
       "2       1) Fight The Risk of Cancer!\\nnhttp://www.adcl...         1   \n",
       "3       ##############################################...         1   \n",
       "4       I thought you might like these:\\nn1) Slim Down...         1   \n",
       "\n",
       "                                     FILE_NAME  \n",
       "DOC_ID                                          \n",
       "0       00001.7848dde101aa985090474a91ec93fcf0  \n",
       "1       00002.d94f1b97e48ed3b553b3508d116e6a09  \n",
       "2       00003.2ee33bc6eacdb11f38d052c44819ba6c  \n",
       "3       00004.eac8de8d759b7e74154f142194282724  \n",
       "4       00005.57696a39d7d84318ce497886896bf90d  "
      ]
     },
     "execution_count": 90,
     "metadata": {},
     "output_type": "execute_result"
    }
   ],
   "source": [
    "data[\"FILE_NAME\"] = data.index\n",
    "# setting the index equal to document ids\n",
    "data.set_index(\"DOC_ID\", inplace=True)\n",
    "data.head()"
   ]
  },
  {
   "cell_type": "markdown",
   "id": "6f46e84c-b233-45c1-9b71-fd015b4c69fd",
   "metadata": {},
   "source": [
    "## Number of spam messages visualised (Pie chart)"
   ]
  },
  {
   "cell_type": "code",
   "execution_count": 93,
   "id": "5c5dd101-5f3a-42b0-a919-2ff1925e15af",
   "metadata": {},
   "outputs": [],
   "source": [
    "amount_of_spam = data.CATEGORY.value_counts()[1]\n",
    "amount_of_ham = data.CATEGORY.value_counts()[0]"
   ]
  },
  {
   "cell_type": "code",
   "execution_count": 97,
   "id": "d3e96a62-125b-4d2e-a747-f1592ab8a6ef",
   "metadata": {},
   "outputs": [
    {
     "data": {
      "image/png": "[encoded data removed]",
      "text/plain": [
       "<Figure size 440x440 with 1 Axes>"
      ]
     },
     "metadata": {},
     "output_type": "display_data"
    }
   ],
   "source": [
    "category_name = [\"Spam\",\"Legit Mail\"]\n",
    "sizes = [amount_of_spam, amount_of_ham]\n",
    "custom_colours = [\"#ff7675\", \"#74b9ff\"] # adding colour to a list \n",
    "\n",
    "plt.figure(figsize=(2,2), dpi=220) \n",
    "plt.pie(sizes, labels=category_name, textprops={\"fontsize\":5}, startangle=90,\n",
    "        autopct=\"%1.0f%%\", colors=custom_colours, pctdistance=0.8) \n",
    "# percent_distance to distance percent = pctdistance\n",
    "\n",
    "\n",
    "# Create donught chart\n",
    "# Draw cirlce\n",
    "centre_circle = plt.Circle((0,0), radius=0.6, fc=\"white\")\n",
    "plt.gca().add_artist(centre_circle) # gca = get the current axis and adding circle with .add_artist\n",
    "\n",
    "plt.show()"
   ]
  },
  {
   "cell_type": "markdown",
   "id": "5d35a4c7-f640-430f-a0d7-d0ff1fd779a8",
   "metadata": {},
   "source": [
    "# Text Pre-Processing"
   ]
  },
  {
   "cell_type": "markdown",
   "id": "5063b099-45d1-4203-bc28-94aacd56496e",
   "metadata": {},
   "source": [
    "### Download the NLTK Resources (Tokenizer & Stopwords)"
   ]
  },
  {
   "cell_type": "code",
   "execution_count": 103,
   "id": "eeac6941-ec7e-4bf4-9342-a29e88a3569d",
   "metadata": {},
   "outputs": [
    {
     "name": "stderr",
     "output_type": "stream",
     "text": [
      "[nltk_data] Downloading package punkt to\n",
      "[nltk_data]     C:\\Users\\HP\\AppData\\Roaming\\nltk_data...\n",
      "[nltk_data]   Package punkt is already up-to-date!\n"
     ]
    },
    {
     "data": {
      "text/plain": [
       "True"
      ]
     },
     "execution_count": 103,
     "metadata": {},
     "output_type": "execute_result"
    }
   ],
   "source": [
    "nltk.download(\"punkt\")"
   ]
  },
  {
   "cell_type": "code",
   "execution_count": 104,
   "id": "a5cab720-4988-46c2-b667-07b5b4f0e41d",
   "metadata": {},
   "outputs": [
    {
     "name": "stderr",
     "output_type": "stream",
     "text": [
      "[nltk_data] Downloading package stopwords to\n",
      "[nltk_data]     C:\\Users\\HP\\AppData\\Roaming\\nltk_data...\n",
      "[nltk_data]   Package stopwords is already up-to-date!\n"
     ]
    },
    {
     "data": {
      "text/plain": [
       "True"
      ]
     },
     "execution_count": 104,
     "metadata": {},
     "output_type": "execute_result"
    }
   ],
   "source": [
    "nltk.download(\"stopwords\")"
   ]
  },
  {
   "cell_type": "markdown",
   "id": "b1e3ef58-d624-4a8d-9560-e3eac0398361",
   "metadata": {},
   "source": [
    "### Tokenising"
   ]
  },
  {
   "cell_type": "code",
   "execution_count": 112,
   "id": "96efdeb3-d8ed-4a95-8898-5e3a9e1bee92",
   "metadata": {},
   "outputs": [
    {
     "data": {
      "text/plain": [
       "['all', 'work', 'and', 'no', 'play', 'makes', 'jack', 'a', 'dull', 'boy', '.']"
      ]
     },
     "execution_count": 112,
     "metadata": {},
     "output_type": "execute_result"
    }
   ],
   "source": [
    "# Tokenizing using NLP\n",
    "msg = \"All work and no play makes Jack a dull boy.\"\n",
    "word_tokenize(msg.lower())"
   ]
  },
  {
   "cell_type": "markdown",
   "id": "a9e46b05-cfed-422c-827b-bf56fe0aac0c",
   "metadata": {},
   "source": [
    "### Removing stopwords"
   ]
  },
  {
   "cell_type": "code",
   "execution_count": 117,
   "id": "89302844-9ddc-4af4-a71e-3cdd1cee002d",
   "metadata": {},
   "outputs": [],
   "source": [
    "stop_words = set(stopwords.words(\"english\"))"
   ]
  },
  {
   "cell_type": "code",
   "execution_count": 119,
   "id": "143e1f7d-b015-4692-8654-7dd31ffa41cc",
   "metadata": {},
   "outputs": [
    {
     "name": "stdout",
     "output_type": "stream",
     "text": [
      "['work', 'play', 'makes', 'jack', 'dull', 'boy', '.', '.']\n"
     ]
    }
   ],
   "source": [
    "# creating function that can lower, tokenize and remove stopwords\n",
    "msg = \"All work and no play makes Jack a dull boy. To be or not to be.\"\n",
    "words = word_tokenize(msg.lower())\n",
    "\n",
    "filtered_words = []\n",
    "\n",
    "for word in words:\n",
    "    if word not in stop_words:\n",
    "        filtered_words.append(word)\n",
    "\n",
    "print(filtered_words)"
   ]
  },
  {
   "cell_type": "markdown",
   "id": "e88f15a1-0c3f-4fe8-8965-28ee69a7bf10",
   "metadata": {},
   "source": [
    "### Removing Punctuations"
   ]
  },
  {
   "cell_type": "code",
   "execution_count": 125,
   "id": "fe62bdad-fd11-4b04-9cc6-565378ea2edc",
   "metadata": {},
   "outputs": [
    {
     "name": "stdout",
     "output_type": "stream",
     "text": [
      "['work', 'play', 'make', 'jack', 'dull', 'boy', '.', '.', 'nobodi', 'expect', 'spanish', 'inquisit', '!']\n"
     ]
    }
   ],
   "source": [
    "# creating function that can lower, tokenize and remove stopwords\n",
    "msg = \"All work and no play makes Jack a dull boy. To be or not to be. \\\n",
    "Nobody expects the Spanish Inquisition!\"\n",
    "words = word_tokenize(msg.lower())\n",
    "\n",
    "#stemmer = PorterStemmer()\n",
    "stemmer = SnowballStemmer(\"english\")\n",
    "filtered_words = []\n",
    "\n",
    "for word in words:\n",
    "    if word not in stop_words:\n",
    "        stemmed_word = stemmer.stem(word)\n",
    "        filtered_words.append(stemmed_word)\n",
    "\n",
    "print(filtered_words)"
   ]
  },
  {
   "cell_type": "markdown",
   "id": "8c77db84-1db2-4979-b92e-3fb581a1ca54",
   "metadata": {},
   "source": [
    "## Removing HTML tags from emails"
   ]
  },
  {
   "cell_type": "code",
   "execution_count": 128,
   "id": "7da072b3-703c-4fb2-b401-ef65c416d9ee",
   "metadata": {},
   "outputs": [
    {
     "name": "stdout",
     "output_type": "stream",
     "text": [
      "1) Fight The Risk of Cancer!\n",
      "nhttp://www.adclick.ws/p.cfm?o=315&amp;s=pk007\n",
      "n\n",
      "n2) Slim Down - Guaranteed to lose 10-12 lbs in 30 days\n",
      "nhttp://www.adclick.ws/p.cfm?o=249&amp;s=pk007\n",
      "n\n",
      "n3) Get the Child Support You Deserve - Free Legal Advice\n",
      "nhttp://www.adclick.ws/p.cfm?o=245&amp;s=pk002\n",
      "n\n",
      "n4) Join the Web's Fastest Growing Singles Community\n",
      "nhttp://www.adclick.ws/p.cfm?o=259&amp;s=pk007\n",
      "n\n",
      "n5) Start Your Private Photo Album Online!\n",
      "nhttp://www.adclick.ws/p.cfm?o=283&amp;s=pk007\n",
      "n\n",
      "nHave a Wonderful Day,\n",
      "nOffer Manager\n",
      "nPrizeMama\n",
      "n\n",
      "n\n",
      "n\n",
      "n\n",
      "n\n",
      "n\n",
      "n\n",
      "n\n",
      "n\n",
      "n\n",
      "n\n",
      "n\n",
      "n\n",
      "nIf you wish to leave this list please use the link below.\n",
      "nhttp://www.qves.com/trim/?zzzz@spamassassin.taint.org%7C17%7C308417\n",
      "n\n",
      "\n"
     ]
    }
   ],
   "source": [
    "soup = BeautifulSoup(data.at[2, \"MESSAGE\"], \"html.parser\") \n",
    "print(soup.prettify())"
   ]
  },
  {
   "cell_type": "code",
   "execution_count": 130,
   "id": "8c85158d-2660-4b78-8c37-bd69863d55ad",
   "metadata": {},
   "outputs": [
    {
     "data": {
      "text/plain": [
       "\"1) Fight The Risk of Cancer!\\nnhttp://www.adclick.ws/p.cfm?o=315&s=pk007\\nn\\nn2) Slim Down - Guaranteed to lose 10-12 lbs in 30 days\\nnhttp://www.adclick.ws/p.cfm?o=249&s=pk007\\nn\\nn3) Get the Child Support You Deserve - Free Legal Advice\\nnhttp://www.adclick.ws/p.cfm?o=245&s=pk002\\nn\\nn4) Join the Web's Fastest Growing Singles Community\\nnhttp://www.adclick.ws/p.cfm?o=259&s=pk007\\nn\\nn5) Start Your Private Photo Album Online!\\nnhttp://www.adclick.ws/p.cfm?o=283&s=pk007\\nn\\nnHave a Wonderful Day,\\nnOffer Manager\\nnPrizeMama\\nn\\nn\\nn\\nn\\nn\\nn\\nn\\nn\\nn\\nn\\nn\\nn\\nn\\nnIf you wish to leave this list please use the link below.\\nnhttp://www.qves.com/trim/?zzzz@spamassassin.taint.org%7C17%7C308417\\nn\\n\""
      ]
     },
     "execution_count": 130,
     "metadata": {},
     "output_type": "execute_result"
    }
   ],
   "source": [
    "soup.get_text()"
   ]
  },
  {
   "cell_type": "markdown",
   "id": "7e0d517b-6a05-4650-94f2-6df5d47c455e",
   "metadata": {},
   "source": [
    "## Function for Email Processing"
   ]
  },
  {
   "cell_type": "code",
   "execution_count": 137,
   "id": "29e09583-3050-433a-8c6c-c5ffeb6effe4",
   "metadata": {},
   "outputs": [],
   "source": [
    "def clean_msg_no_html(message, stemmer=PorterStemmer(), \n",
    "                  stop_words = set(stopwords.words(\"english\"))):\n",
    "\n",
    "    # Remove HTML tags\n",
    "    soup = BeautifulSoup(message, \"html.parser\")\n",
    "    cleaned_text = soup.get_text()\n",
    "    \n",
    "    # Converts to lowercase and splits the words\n",
    "    words = word_tokenize(cleaned_text.lower())\n",
    "    \n",
    "    filtered_words = []\n",
    "\n",
    "    for word in words:\n",
    "        # Remove the stop word and Punctuation\n",
    "        if word not in stop_words and word.isalpha():\n",
    "            filtered_words.append(stemmer.stem(word))\n",
    "\n",
    "    return filtered_words"
   ]
  },
  {
   "cell_type": "code",
   "execution_count": 139,
   "id": "69b78b06-5b8a-4eb5-ae2c-2a83cc8a936f",
   "metadata": {},
   "outputs": [
    {
     "data": {
      "text/plain": [
       "['fight',\n",
       " 'risk',\n",
       " 'cancer',\n",
       " 'nhttp',\n",
       " 'n',\n",
       " 'slim',\n",
       " 'guarante',\n",
       " 'lose',\n",
       " 'lb',\n",
       " 'day',\n",
       " 'nhttp',\n",
       " 'n',\n",
       " 'get',\n",
       " 'child',\n",
       " 'support',\n",
       " 'deserv',\n",
       " 'free',\n",
       " 'legal',\n",
       " 'advic',\n",
       " 'nhttp',\n",
       " 'n',\n",
       " 'join',\n",
       " 'web',\n",
       " 'fastest',\n",
       " 'grow',\n",
       " 'singl',\n",
       " 'commun',\n",
       " 'nhttp',\n",
       " 'n',\n",
       " 'start',\n",
       " 'privat',\n",
       " 'photo',\n",
       " 'album',\n",
       " 'onlin',\n",
       " 'nhttp',\n",
       " 'n',\n",
       " 'nhave',\n",
       " 'wonder',\n",
       " 'day',\n",
       " 'noffer',\n",
       " 'manag',\n",
       " 'nprizemama',\n",
       " 'n',\n",
       " 'n',\n",
       " 'n',\n",
       " 'n',\n",
       " 'n',\n",
       " 'n',\n",
       " 'n',\n",
       " 'n',\n",
       " 'n',\n",
       " 'n',\n",
       " 'n',\n",
       " 'n',\n",
       " 'n',\n",
       " 'nif',\n",
       " 'wish',\n",
       " 'leav',\n",
       " 'list',\n",
       " 'pleas',\n",
       " 'use',\n",
       " 'link',\n",
       " 'nhttp',\n",
       " 'zzzz',\n",
       " 'n']"
      ]
     },
     "execution_count": 139,
     "metadata": {},
     "output_type": "execute_result"
    }
   ],
   "source": [
    "clean_msg_no_html(data.at[2, \"MESSAGE\"])"
   ]
  },
  {
   "cell_type": "markdown",
   "id": "1b365db6-538d-423c-bc3a-314b9dbcf732",
   "metadata": {},
   "source": [
    "### Applying Cleaning and Tokenisation to all messages"
   ]
  },
  {
   "cell_type": "code",
   "execution_count": 144,
   "id": "eeabf2f2-5aef-4b56-a714-30ee560c5b83",
   "metadata": {},
   "outputs": [],
   "source": [
    "first_emails = data.MESSAGE.iloc[0:3]\n",
    "nested_list = first_emails.apply(clean_message)"
   ]
  },
  {
   "cell_type": "code",
   "execution_count": 146,
   "id": "0a0aa557-2ceb-424d-948a-cafe83717a21",
   "metadata": {},
   "outputs": [
    {
     "data": {
      "text/plain": [
       "447"
      ]
     },
     "execution_count": 146,
     "metadata": {},
     "output_type": "execute_result"
    }
   ],
   "source": [
    "flat_list = [item for sublist in nested_list for item in sublist]\n",
    "\n",
    "len(flat_list)"
   ]
  },
  {
   "cell_type": "code",
   "execution_count": 148,
   "id": "d6e9b823-9f37-45b5-9ca5-44fd2c12bcfd",
   "metadata": {},
   "outputs": [
    {
     "name": "stderr",
     "output_type": "stream",
     "text": [
      "C:\\Users\\HP\\AppData\\Local\\Temp\\ipykernel_13204\\590979557.py:5: MarkupResemblesLocatorWarning: The input looks more like a filename than markup. You may want to open this file and pass the filehandle into Beautiful Soup.\n",
      "  soup = BeautifulSoup(message, \"html.parser\")\n",
      "C:\\Users\\HP\\AppData\\Local\\Temp\\ipykernel_13204\\590979557.py:5: MarkupResemblesLocatorWarning: The input looks more like a URL than markup. You may want to use an HTTP client like requests to get the document behind the URL, and feed that document to Beautiful Soup.\n",
      "  soup = BeautifulSoup(message, \"html.parser\")\n"
     ]
    },
    {
     "name": "stdout",
     "output_type": "stream",
     "text": [
      "CPU times: total: 58.8 s\n",
      "Wall time: 1min\n"
     ]
    }
   ],
   "source": [
    "%%time\n",
    "\n",
    "# use apply() on all the messages in th edataframe\n",
    "nested_list = data.MESSAGE.apply(clean_msg_no_html)"
   ]
  },
  {
   "cell_type": "code",
   "execution_count": 150,
   "id": "723acd1b-9165-4505-ae26-790ea25732bc",
   "metadata": {},
   "outputs": [
    {
     "data": {
      "text/plain": [
       "DOC_ID\n",
       "0    [n, n, n, n, n, n, n, n, n, n, n, n, n, n, nsa...\n",
       "1    [fight, risk, cancer, nhttp, n, slim, guarante...\n",
       "2    [fight, risk, cancer, nhttp, n, slim, guarante...\n",
       "3    [n, n, adult, club, n, offer, free, membership...\n",
       "4    [thought, might, like, slim, guarante, lose, l...\n",
       "Name: MESSAGE, dtype: object"
      ]
     },
     "execution_count": 150,
     "metadata": {},
     "output_type": "execute_result"
    }
   ],
   "source": [
    "nested_list.head()"
   ]
  },
  {
   "cell_type": "markdown",
   "id": "abd49c50-5b39-4821-946b-bd822907e99f",
   "metadata": {},
   "source": [
    "### Using Logic to slice dataframes"
   ]
  },
  {
   "cell_type": "code",
   "execution_count": 155,
   "id": "370e9413-363c-4aca-a1f7-5037e6eeb61c",
   "metadata": {},
   "outputs": [],
   "source": [
    "# create two variables for spam and non spam emails index\n",
    "doc_ids_spam = data[data.CATEGORY == 1].index\n",
    "doc_ids_ham = data[data.CATEGORY == 0].index"
   ]
  },
  {
   "cell_type": "markdown",
   "id": "2f76035c-46ff-406a-8e0a-7011ee6b2a81",
   "metadata": {},
   "source": [
    "### Subsetting a series with an index"
   ]
  },
  {
   "cell_type": "code",
   "execution_count": 160,
   "id": "e78d9de5-6319-4e0b-b9b3-31cc21712d97",
   "metadata": {},
   "outputs": [],
   "source": [
    "nested_list_ham = nested_list.loc[doc_ids_ham]"
   ]
  },
  {
   "cell_type": "code",
   "execution_count": 162,
   "id": "10533ace-e018-4d73-80c9-26796f02010d",
   "metadata": {},
   "outputs": [],
   "source": [
    "nested_list_spam = nested_list.loc[doc_ids_spam]"
   ]
  },
  {
   "cell_type": "code",
   "execution_count": 164,
   "id": "39bd10fc-eed4-47b4-8ee5-6e900e31afe5",
   "metadata": {},
   "outputs": [
    {
     "data": {
      "text/plain": [
       "26621"
      ]
     },
     "execution_count": 164,
     "metadata": {},
     "output_type": "execute_result"
    }
   ],
   "source": [
    "# Creating flat list from nested list to count unique words in ham\n",
    "flat_list_ham = [item for sublist in nested_list_ham for item in sublist]\n",
    "normal_words = pd.Series(flat_list_ham).value_counts() # value_counts() create series of unique words\n",
    "\n",
    "normal_words.shape[0] # total number of words"
   ]
  },
  {
   "cell_type": "code",
   "execution_count": 166,
   "id": "d09159b5-52c3-4145-b866-12d0600135e0",
   "metadata": {},
   "outputs": [
    {
     "data": {
      "text/plain": [
       "16376"
      ]
     },
     "execution_count": 166,
     "metadata": {},
     "output_type": "execute_result"
    }
   ],
   "source": [
    "# Creating flat list from nested list to count unique words in spam\n",
    "flat_list_spam = [item for sublist in nested_list_spam for item in sublist]\n",
    "spammy_words = pd.Series(flat_list_spam).value_counts() # value_counts() create series of unique words\n",
    "\n",
    "spammy_words.shape[0] # total number of words"
   ]
  },
  {
   "cell_type": "markdown",
   "id": "fd4a696d-71d8-460a-ae05-bb23e7c7b088",
   "metadata": {},
   "source": [
    "## Generate Vocabulary & Dictionary"
   ]
  },
  {
   "cell_type": "code",
   "execution_count": 169,
   "id": "2dfc254e-1497-45b7-8d2d-8f51bca24893",
   "metadata": {},
   "outputs": [
    {
     "name": "stderr",
     "output_type": "stream",
     "text": [
      "C:\\Users\\HP\\AppData\\Local\\Temp\\ipykernel_13204\\590979557.py:5: MarkupResemblesLocatorWarning: The input looks more like a filename than markup. You may want to open this file and pass the filehandle into Beautiful Soup.\n",
      "  soup = BeautifulSoup(message, \"html.parser\")\n",
      "C:\\Users\\HP\\AppData\\Local\\Temp\\ipykernel_13204\\590979557.py:5: MarkupResemblesLocatorWarning: The input looks more like a URL than markup. You may want to use an HTTP client like requests to get the document behind the URL, and feed that document to Beautiful Soup.\n",
      "  soup = BeautifulSoup(message, \"html.parser\")\n"
     ]
    }
   ],
   "source": [
    "stemmed_nested_list = data.MESSAGE.apply(clean_msg_no_html)\n",
    "flat_stemmed_list = [item for sublist in stemmed_nested_list for item in sublist]"
   ]
  },
  {
   "cell_type": "code",
   "execution_count": 173,
   "id": "68243dce-bcf2-4f9f-8e85-4a0bc44e3619",
   "metadata": {},
   "outputs": [
    {
     "name": "stdout",
     "output_type": "stream",
     "text": [
      "No. of unique words 34398\n"
     ]
    },
    {
     "data": {
      "text/plain": [
       "n        194670\n",
       "nhttp      5449\n",
       "http       5211\n",
       "use        4795\n",
       "email      4120\n",
       "Name: count, dtype: int64"
      ]
     },
     "execution_count": 173,
     "metadata": {},
     "output_type": "execute_result"
    }
   ],
   "source": [
    "# Getting unique set of word to make vocab\n",
    "unique_words = pd.Series(flat_stemmed_list).value_counts()\n",
    "print(\"No. of unique words\", unique_words.shape[0])\n",
    "unique_words.head()"
   ]
  },
  {
   "cell_type": "code",
   "execution_count": 175,
   "id": "275d9b0d-f725-4f95-86f6-0aca7fe43d44",
   "metadata": {},
   "outputs": [
    {
     "name": "stdout",
     "output_type": "stream",
     "text": [
      "Most common words: \n",
      " n        194670\n",
      "nhttp      5449\n",
      "http       5211\n",
      "use        4795\n",
      "email      4120\n",
      "list       4034\n",
      "get        3878\n",
      "mail       3863\n",
      "nthe       3647\n",
      "one        3638\n",
      "Name: count, dtype: int64\n"
     ]
    }
   ],
   "source": [
    "# Creating subset of unique_words\n",
    "frequent_words = unique_words[0:VOCAB_SIZE]\n",
    "print(\"Most common words: \\n\",frequent_words[0:10])"
   ]
  },
  {
   "cell_type": "markdown",
   "id": "fd083b5a-9c75-4bb7-a5ff-354bbe1012d7",
   "metadata": {},
   "source": [
    "## Create vocab dataframe with a word_id"
   ]
  },
  {
   "cell_type": "code",
   "execution_count": 178,
   "id": "419a9ec8-43b3-412c-ace2-8d689e8bc76b",
   "metadata": {},
   "outputs": [
    {
     "data": {
      "text/html": [
       "<div>\n",
       "<style scoped>\n",
       "    .dataframe tbody tr th:only-of-type {\n",
       "        vertical-align: middle;\n",
       "    }\n",
       "\n",
       "    .dataframe tbody tr th {\n",
       "        vertical-align: top;\n",
       "    }\n",
       "\n",
       "    .dataframe thead th {\n",
       "        text-align: right;\n",
       "    }\n",
       "</style>\n",
       "<table border=\"1\" class=\"dataframe\">\n",
       "  <thead>\n",
       "    <tr style=\"text-align: right;\">\n",
       "      <th></th>\n",
       "      <th>VOCAB_WORD</th>\n",
       "    </tr>\n",
       "    <tr>\n",
       "      <th>WORD_ID</th>\n",
       "      <th></th>\n",
       "    </tr>\n",
       "  </thead>\n",
       "  <tbody>\n",
       "    <tr>\n",
       "      <th>0</th>\n",
       "      <td>n</td>\n",
       "    </tr>\n",
       "    <tr>\n",
       "      <th>1</th>\n",
       "      <td>nhttp</td>\n",
       "    </tr>\n",
       "    <tr>\n",
       "      <th>2</th>\n",
       "      <td>http</td>\n",
       "    </tr>\n",
       "    <tr>\n",
       "      <th>3</th>\n",
       "      <td>use</td>\n",
       "    </tr>\n",
       "    <tr>\n",
       "      <th>4</th>\n",
       "      <td>email</td>\n",
       "    </tr>\n",
       "  </tbody>\n",
       "</table>\n",
       "</div>"
      ],
      "text/plain": [
       "        VOCAB_WORD\n",
       "WORD_ID           \n",
       "0                n\n",
       "1            nhttp\n",
       "2             http\n",
       "3              use\n",
       "4            email"
      ]
     },
     "execution_count": 178,
     "metadata": {},
     "output_type": "execute_result"
    }
   ],
   "source": [
    "word_ids = list(range(0, VOCAB_SIZE))\n",
    "vocab = pd.DataFrame({\"VOCAB_WORD\": frequent_words.index.values}, index=word_ids)\n",
    "vocab.index.name = \"WORD_ID\"\n",
    "vocab.head()"
   ]
  },
  {
   "cell_type": "markdown",
   "id": "58b887d8-ece5-4898-90c1-1f6d10fab917",
   "metadata": {},
   "source": [
    "## Generate Features & a Sparse Matrix"
   ]
  },
  {
   "cell_type": "code",
   "execution_count": 182,
   "id": "105d083a-1c94-40b5-8b31-f58b971bad36",
   "metadata": {},
   "outputs": [
    {
     "data": {
      "text/plain": [
       "list"
      ]
     },
     "execution_count": 182,
     "metadata": {},
     "output_type": "execute_result"
    }
   ],
   "source": [
    "# Converting series to list\n",
    "type(stemmed_nested_list.tolist())"
   ]
  },
  {
   "cell_type": "code",
   "execution_count": 184,
   "id": "d2d45be3-f997-4c15-b672-8e0b5bd686e6",
   "metadata": {},
   "outputs": [
    {
     "data": {
      "text/html": [
       "<div>\n",
       "<style scoped>\n",
       "    .dataframe tbody tr th:only-of-type {\n",
       "        vertical-align: middle;\n",
       "    }\n",
       "\n",
       "    .dataframe tbody tr th {\n",
       "        vertical-align: top;\n",
       "    }\n",
       "\n",
       "    .dataframe thead th {\n",
       "        text-align: right;\n",
       "    }\n",
       "</style>\n",
       "<table border=\"1\" class=\"dataframe\">\n",
       "  <thead>\n",
       "    <tr style=\"text-align: right;\">\n",
       "      <th></th>\n",
       "      <th>0</th>\n",
       "      <th>1</th>\n",
       "      <th>2</th>\n",
       "      <th>3</th>\n",
       "      <th>4</th>\n",
       "      <th>5</th>\n",
       "      <th>6</th>\n",
       "      <th>7</th>\n",
       "      <th>8</th>\n",
       "      <th>9</th>\n",
       "      <th>...</th>\n",
       "      <th>9594</th>\n",
       "      <th>9595</th>\n",
       "      <th>9596</th>\n",
       "      <th>9597</th>\n",
       "      <th>9598</th>\n",
       "      <th>9599</th>\n",
       "      <th>9600</th>\n",
       "      <th>9601</th>\n",
       "      <th>9602</th>\n",
       "      <th>9603</th>\n",
       "    </tr>\n",
       "  </thead>\n",
       "  <tbody>\n",
       "    <tr>\n",
       "      <th>0</th>\n",
       "      <td>n</td>\n",
       "      <td>n</td>\n",
       "      <td>n</td>\n",
       "      <td>n</td>\n",
       "      <td>n</td>\n",
       "      <td>n</td>\n",
       "      <td>n</td>\n",
       "      <td>n</td>\n",
       "      <td>n</td>\n",
       "      <td>n</td>\n",
       "      <td>...</td>\n",
       "      <td>None</td>\n",
       "      <td>None</td>\n",
       "      <td>None</td>\n",
       "      <td>None</td>\n",
       "      <td>None</td>\n",
       "      <td>None</td>\n",
       "      <td>None</td>\n",
       "      <td>None</td>\n",
       "      <td>None</td>\n",
       "      <td>None</td>\n",
       "    </tr>\n",
       "    <tr>\n",
       "      <th>1</th>\n",
       "      <td>fight</td>\n",
       "      <td>risk</td>\n",
       "      <td>cancer</td>\n",
       "      <td>nhttp</td>\n",
       "      <td>n</td>\n",
       "      <td>slim</td>\n",
       "      <td>guarante</td>\n",
       "      <td>lose</td>\n",
       "      <td>lb</td>\n",
       "      <td>day</td>\n",
       "      <td>...</td>\n",
       "      <td>None</td>\n",
       "      <td>None</td>\n",
       "      <td>None</td>\n",
       "      <td>None</td>\n",
       "      <td>None</td>\n",
       "      <td>None</td>\n",
       "      <td>None</td>\n",
       "      <td>None</td>\n",
       "      <td>None</td>\n",
       "      <td>None</td>\n",
       "    </tr>\n",
       "    <tr>\n",
       "      <th>2</th>\n",
       "      <td>fight</td>\n",
       "      <td>risk</td>\n",
       "      <td>cancer</td>\n",
       "      <td>nhttp</td>\n",
       "      <td>n</td>\n",
       "      <td>slim</td>\n",
       "      <td>guarante</td>\n",
       "      <td>lose</td>\n",
       "      <td>lb</td>\n",
       "      <td>day</td>\n",
       "      <td>...</td>\n",
       "      <td>None</td>\n",
       "      <td>None</td>\n",
       "      <td>None</td>\n",
       "      <td>None</td>\n",
       "      <td>None</td>\n",
       "      <td>None</td>\n",
       "      <td>None</td>\n",
       "      <td>None</td>\n",
       "      <td>None</td>\n",
       "      <td>None</td>\n",
       "    </tr>\n",
       "    <tr>\n",
       "      <th>3</th>\n",
       "      <td>n</td>\n",
       "      <td>n</td>\n",
       "      <td>adult</td>\n",
       "      <td>club</td>\n",
       "      <td>n</td>\n",
       "      <td>offer</td>\n",
       "      <td>free</td>\n",
       "      <td>membership</td>\n",
       "      <td>n</td>\n",
       "      <td>n</td>\n",
       "      <td>...</td>\n",
       "      <td>None</td>\n",
       "      <td>None</td>\n",
       "      <td>None</td>\n",
       "      <td>None</td>\n",
       "      <td>None</td>\n",
       "      <td>None</td>\n",
       "      <td>None</td>\n",
       "      <td>None</td>\n",
       "      <td>None</td>\n",
       "      <td>None</td>\n",
       "    </tr>\n",
       "    <tr>\n",
       "      <th>4</th>\n",
       "      <td>thought</td>\n",
       "      <td>might</td>\n",
       "      <td>like</td>\n",
       "      <td>slim</td>\n",
       "      <td>guarante</td>\n",
       "      <td>lose</td>\n",
       "      <td>lb</td>\n",
       "      <td>day</td>\n",
       "      <td>nhttp</td>\n",
       "      <td>n</td>\n",
       "      <td>...</td>\n",
       "      <td>None</td>\n",
       "      <td>None</td>\n",
       "      <td>None</td>\n",
       "      <td>None</td>\n",
       "      <td>None</td>\n",
       "      <td>None</td>\n",
       "      <td>None</td>\n",
       "      <td>None</td>\n",
       "      <td>None</td>\n",
       "      <td>None</td>\n",
       "    </tr>\n",
       "  </tbody>\n",
       "</table>\n",
       "<p>5 rows × 9604 columns</p>\n",
       "</div>"
      ],
      "text/plain": [
       "      0      1       2      3         4      5         6           7     \\\n",
       "0        n      n       n      n         n      n         n           n   \n",
       "1    fight   risk  cancer  nhttp         n   slim  guarante        lose   \n",
       "2    fight   risk  cancer  nhttp         n   slim  guarante        lose   \n",
       "3        n      n   adult   club         n  offer      free  membership   \n",
       "4  thought  might    like   slim  guarante   lose        lb         day   \n",
       "\n",
       "    8    9     ...  9594  9595  9596  9597  9598  9599  9600  9601  9602  9603  \n",
       "0      n    n  ...  None  None  None  None  None  None  None  None  None  None  \n",
       "1     lb  day  ...  None  None  None  None  None  None  None  None  None  None  \n",
       "2     lb  day  ...  None  None  None  None  None  None  None  None  None  None  \n",
       "3      n    n  ...  None  None  None  None  None  None  None  None  None  None  \n",
       "4  nhttp    n  ...  None  None  None  None  None  None  None  None  None  None  \n",
       "\n",
       "[5 rows x 9604 columns]"
      ]
     },
     "execution_count": 184,
     "metadata": {},
     "output_type": "execute_result"
    }
   ],
   "source": [
    "# Creating pandas dataframe\n",
    "word_columns_df = pd.DataFrame.from_records(stemmed_nested_list.tolist())\n",
    "word_columns_df.head()"
   ]
  },
  {
   "cell_type": "code",
   "execution_count": 186,
   "id": "aaaab215-300a-4035-9db7-849c756eb826",
   "metadata": {},
   "outputs": [
    {
     "data": {
      "text/plain": [
       "(5796, 9604)"
      ]
     },
     "execution_count": 186,
     "metadata": {},
     "output_type": "execute_result"
    }
   ],
   "source": [
    "word_columns_df.shape"
   ]
  },
  {
   "cell_type": "markdown",
   "id": "41de34be-e9ec-45b3-9256-b8d451ad308d",
   "metadata": {},
   "source": [
    "### Splitting the data into a Training and testing dataset"
   ]
  },
  {
   "cell_type": "code",
   "execution_count": 189,
   "id": "6a392e23-9fdc-4038-a138-ea9e0573bee5",
   "metadata": {},
   "outputs": [],
   "source": [
    "x_train, x_test, y_train, y_test = train_test_split(word_columns_df, data.CATEGORY, test_size = 0.3, random_state = 42)"
   ]
  },
  {
   "cell_type": "code",
   "execution_count": 191,
   "id": "30fea198-2be7-4e5f-be94-172c5429517d",
   "metadata": {},
   "outputs": [
    {
     "data": {
      "text/html": [
       "<div>\n",
       "<style scoped>\n",
       "    .dataframe tbody tr th:only-of-type {\n",
       "        vertical-align: middle;\n",
       "    }\n",
       "\n",
       "    .dataframe tbody tr th {\n",
       "        vertical-align: top;\n",
       "    }\n",
       "\n",
       "    .dataframe thead th {\n",
       "        text-align: right;\n",
       "    }\n",
       "</style>\n",
       "<table border=\"1\" class=\"dataframe\">\n",
       "  <thead>\n",
       "    <tr style=\"text-align: right;\">\n",
       "      <th></th>\n",
       "      <th>0</th>\n",
       "      <th>1</th>\n",
       "      <th>2</th>\n",
       "      <th>3</th>\n",
       "      <th>4</th>\n",
       "      <th>5</th>\n",
       "      <th>6</th>\n",
       "      <th>7</th>\n",
       "      <th>8</th>\n",
       "      <th>9</th>\n",
       "      <th>...</th>\n",
       "      <th>9594</th>\n",
       "      <th>9595</th>\n",
       "      <th>9596</th>\n",
       "      <th>9597</th>\n",
       "      <th>9598</th>\n",
       "      <th>9599</th>\n",
       "      <th>9600</th>\n",
       "      <th>9601</th>\n",
       "      <th>9602</th>\n",
       "      <th>9603</th>\n",
       "    </tr>\n",
       "    <tr>\n",
       "      <th>DOC_ID</th>\n",
       "      <th></th>\n",
       "      <th></th>\n",
       "      <th></th>\n",
       "      <th></th>\n",
       "      <th></th>\n",
       "      <th></th>\n",
       "      <th></th>\n",
       "      <th></th>\n",
       "      <th></th>\n",
       "      <th></th>\n",
       "      <th></th>\n",
       "      <th></th>\n",
       "      <th></th>\n",
       "      <th></th>\n",
       "      <th></th>\n",
       "      <th></th>\n",
       "      <th></th>\n",
       "      <th></th>\n",
       "      <th></th>\n",
       "      <th></th>\n",
       "      <th></th>\n",
       "    </tr>\n",
       "  </thead>\n",
       "  <tbody>\n",
       "    <tr>\n",
       "      <th>4844</th>\n",
       "      <td>ye</td>\n",
       "      <td>inde</td>\n",
       "      <td>agent</td>\n",
       "      <td>directori</td>\n",
       "      <td>verita</td>\n",
       "      <td>cd</td>\n",
       "      <td>nthe</td>\n",
       "      <td>unix</td>\n",
       "      <td>subdirectori</td>\n",
       "      <td>file</td>\n",
       "      <td>...</td>\n",
       "      <td>None</td>\n",
       "      <td>None</td>\n",
       "      <td>None</td>\n",
       "      <td>None</td>\n",
       "      <td>None</td>\n",
       "      <td>None</td>\n",
       "      <td>None</td>\n",
       "      <td>None</td>\n",
       "      <td>None</td>\n",
       "      <td>None</td>\n",
       "    </tr>\n",
       "    <tr>\n",
       "      <th>4727</th>\n",
       "      <td>problem</td>\n",
       "      <td>come</td>\n",
       "      <td>tri</td>\n",
       "      <td>instal</td>\n",
       "      <td>noff</td>\n",
       "      <td>harddissssk</td>\n",
       "      <td>like</td>\n",
       "      <td>alreadi</td>\n",
       "      <td>mount</td>\n",
       "      <td>n</td>\n",
       "      <td>...</td>\n",
       "      <td>None</td>\n",
       "      <td>None</td>\n",
       "      <td>None</td>\n",
       "      <td>None</td>\n",
       "      <td>None</td>\n",
       "      <td>None</td>\n",
       "      <td>None</td>\n",
       "      <td>None</td>\n",
       "      <td>None</td>\n",
       "      <td>None</td>\n",
       "    </tr>\n",
       "    <tr>\n",
       "      <th>5022</th>\n",
       "      <td>n</td>\n",
       "      <td>origin</td>\n",
       "      <td>messag</td>\n",
       "      <td>n</td>\n",
       "      <td>date</td>\n",
       "      <td>mon</td>\n",
       "      <td>aug</td>\n",
       "      <td>n</td>\n",
       "      <td>chad</td>\n",
       "      <td>norwood</td>\n",
       "      <td>...</td>\n",
       "      <td>None</td>\n",
       "      <td>None</td>\n",
       "      <td>None</td>\n",
       "      <td>None</td>\n",
       "      <td>None</td>\n",
       "      <td>None</td>\n",
       "      <td>None</td>\n",
       "      <td>None</td>\n",
       "      <td>None</td>\n",
       "      <td>None</td>\n",
       "    </tr>\n",
       "    <tr>\n",
       "      <th>3504</th>\n",
       "      <td>n</td>\n",
       "      <td>inlin</td>\n",
       "      <td>n</td>\n",
       "      <td>nfolk</td>\n",
       "      <td>n</td>\n",
       "      <td>n</td>\n",
       "      <td>sever</td>\n",
       "      <td>major</td>\n",
       "      <td>internet</td>\n",
       "      <td>outag</td>\n",
       "      <td>...</td>\n",
       "      <td>None</td>\n",
       "      <td>None</td>\n",
       "      <td>None</td>\n",
       "      <td>None</td>\n",
       "      <td>None</td>\n",
       "      <td>None</td>\n",
       "      <td>None</td>\n",
       "      <td>None</td>\n",
       "      <td>None</td>\n",
       "      <td>None</td>\n",
       "    </tr>\n",
       "    <tr>\n",
       "      <th>3921</th>\n",
       "      <td>url</td>\n",
       "      <td>http</td>\n",
       "      <td>ndate</td>\n",
       "      <td>n</td>\n",
       "      <td>n</td>\n",
       "      <td>bath</td>\n",
       "      <td>chronicl</td>\n",
       "      <td>n</td>\n",
       "      <td>n</td>\n",
       "      <td>None</td>\n",
       "      <td>...</td>\n",
       "      <td>None</td>\n",
       "      <td>None</td>\n",
       "      <td>None</td>\n",
       "      <td>None</td>\n",
       "      <td>None</td>\n",
       "      <td>None</td>\n",
       "      <td>None</td>\n",
       "      <td>None</td>\n",
       "      <td>None</td>\n",
       "      <td>None</td>\n",
       "    </tr>\n",
       "  </tbody>\n",
       "</table>\n",
       "<p>5 rows × 9604 columns</p>\n",
       "</div>"
      ],
      "text/plain": [
       "           0       1       2          3       4            5         6     \\\n",
       "DOC_ID                                                                      \n",
       "4844         ye    inde   agent  directori  verita           cd      nthe   \n",
       "4727    problem    come     tri     instal    noff  harddissssk      like   \n",
       "5022          n  origin  messag          n    date          mon       aug   \n",
       "3504          n   inlin       n      nfolk       n            n     sever   \n",
       "3921        url    http   ndate          n       n         bath  chronicl   \n",
       "\n",
       "           7             8        9     ...  9594  9595  9596  9597  9598  \\\n",
       "DOC_ID                                  ...                                 \n",
       "4844       unix  subdirectori     file  ...  None  None  None  None  None   \n",
       "4727    alreadi         mount        n  ...  None  None  None  None  None   \n",
       "5022          n          chad  norwood  ...  None  None  None  None  None   \n",
       "3504      major      internet    outag  ...  None  None  None  None  None   \n",
       "3921          n             n     None  ...  None  None  None  None  None   \n",
       "\n",
       "        9599  9600  9601  9602  9603  \n",
       "DOC_ID                                \n",
       "4844    None  None  None  None  None  \n",
       "4727    None  None  None  None  None  \n",
       "5022    None  None  None  None  None  \n",
       "3504    None  None  None  None  None  \n",
       "3921    None  None  None  None  None  \n",
       "\n",
       "[5 rows x 9604 columns]"
      ]
     },
     "execution_count": 191,
     "metadata": {},
     "output_type": "execute_result"
    }
   ],
   "source": [
    "# labeling index\n",
    "x_train.index.name = x_test.index.name = \"DOC_ID\"\n",
    "x_train.head()"
   ]
  },
  {
   "cell_type": "markdown",
   "id": "10ee060b-36aa-43f8-8a34-6ee98da47407",
   "metadata": {},
   "source": [
    "### Creting a sparse matrix for the training data"
   ]
  },
  {
   "cell_type": "code",
   "execution_count": 196,
   "id": "c74f0b0a-4168-4ee1-829d-521e7ed9e255",
   "metadata": {},
   "outputs": [
    {
     "data": {
      "text/plain": [
       "str"
      ]
     },
     "execution_count": 196,
     "metadata": {},
     "output_type": "execute_result"
    }
   ],
   "source": [
    "word_index = pd.Index(vocab.VOCAB_WORD)\n",
    "type(word_index[4])"
   ]
  },
  {
   "cell_type": "code",
   "execution_count": 198,
   "id": "e9e1b2cb-737e-4000-92d6-768a5628edf8",
   "metadata": {},
   "outputs": [
    {
     "data": {
      "text/plain": [
       "402"
      ]
     },
     "execution_count": 198,
     "metadata": {},
     "output_type": "execute_result"
    }
   ],
   "source": [
    "word_index.get_loc(\"thu\")"
   ]
  },
  {
   "cell_type": "code",
   "execution_count": 200,
   "id": "4560ba64-65d4-4044-ba6d-e2a6665aea9d",
   "metadata": {},
   "outputs": [],
   "source": [
    "def make_sparse_matrix(df, indexed_words, labels):\n",
    "    \"\"\"\n",
    "    Return sparse matrix as dataframe.\n",
    "    df: a dataframe with words in the columns with a documnet id as an index (x_train or x_test)\n",
    "    indexed_words: index of words ordered by word id\n",
    "    labels: category as a series (y_train or y_test)\n",
    "    \"\"\"\n",
    "\n",
    "    nr_rows = df.shape[0]\n",
    "    nr_cols = df.shape[1]\n",
    "    word_set = set(indexed_words)\n",
    "    dict_list = []\n",
    "\n",
    "    for i in range(nr_rows):\n",
    "        for j in range(nr_cols):\n",
    "\n",
    "            word = df.iat[i,j]\n",
    "            if word in word_set:\n",
    "                doc_id = df.index[i]\n",
    "                word_id = indexed_words.get_loc(word)\n",
    "                category = labels.at[doc_id]\n",
    "\n",
    "                item = {\"LABEL\" : category, \"DOC_ID\": doc_id, \"OCCURENCE\" : 1, \"WORD_ID\" : word_id}\n",
    "\n",
    "                dict_list.append(item)\n",
    "\n",
    "    return pd.DataFrame(dict_list)"
   ]
  },
  {
   "cell_type": "code",
   "execution_count": 202,
   "id": "3dc24a10-a097-4a3c-84be-839bb67ba14c",
   "metadata": {},
   "outputs": [
    {
     "name": "stdout",
     "output_type": "stream",
     "text": [
      "CPU times: total: 25min 10s\n",
      "Wall time: 28min 5s\n"
     ]
    }
   ],
   "source": [
    "%%time\n",
    "sparse_train_df = make_sparse_matrix(x_train, word_index, y_train)"
   ]
  },
  {
   "cell_type": "markdown",
   "id": "fde96650-0acf-4085-9f2b-efe87b7876c8",
   "metadata": {},
   "source": [
    "### Combine occurerences with the pandas groupby() Method"
   ]
  },
  {
   "cell_type": "code",
   "execution_count": 205,
   "id": "6dce7a2b-63f0-49fa-a61d-8bd83e6ccf33",
   "metadata": {},
   "outputs": [
    {
     "data": {
      "text/html": [
       "<div>\n",
       "<style scoped>\n",
       "    .dataframe tbody tr th:only-of-type {\n",
       "        vertical-align: middle;\n",
       "    }\n",
       "\n",
       "    .dataframe tbody tr th {\n",
       "        vertical-align: top;\n",
       "    }\n",
       "\n",
       "    .dataframe thead th {\n",
       "        text-align: right;\n",
       "    }\n",
       "</style>\n",
       "<table border=\"1\" class=\"dataframe\">\n",
       "  <thead>\n",
       "    <tr style=\"text-align: right;\">\n",
       "      <th></th>\n",
       "      <th></th>\n",
       "      <th></th>\n",
       "      <th>OCCURENCE</th>\n",
       "    </tr>\n",
       "    <tr>\n",
       "      <th>DOC_ID</th>\n",
       "      <th>WORD_ID</th>\n",
       "      <th>LABEL</th>\n",
       "      <th></th>\n",
       "    </tr>\n",
       "  </thead>\n",
       "  <tbody>\n",
       "    <tr>\n",
       "      <th rowspan=\"5\" valign=\"top\">0</th>\n",
       "      <th>0</th>\n",
       "      <th>1</th>\n",
       "      <td>66</td>\n",
       "    </tr>\n",
       "    <tr>\n",
       "      <th>4</th>\n",
       "      <th>1</th>\n",
       "      <td>2</td>\n",
       "    </tr>\n",
       "    <tr>\n",
       "      <th>5</th>\n",
       "      <th>1</th>\n",
       "      <td>1</td>\n",
       "    </tr>\n",
       "    <tr>\n",
       "      <th>6</th>\n",
       "      <th>1</th>\n",
       "      <td>1</td>\n",
       "    </tr>\n",
       "    <tr>\n",
       "      <th>10</th>\n",
       "      <th>1</th>\n",
       "      <td>3</td>\n",
       "    </tr>\n",
       "  </tbody>\n",
       "</table>\n",
       "</div>"
      ],
      "text/plain": [
       "                      OCCURENCE\n",
       "DOC_ID WORD_ID LABEL           \n",
       "0      0       1             66\n",
       "       4       1              2\n",
       "       5       1              1\n",
       "       6       1              1\n",
       "       10      1              3"
      ]
     },
     "execution_count": 205,
     "metadata": {},
     "output_type": "execute_result"
    }
   ],
   "source": [
    "train_grouped = sparse_train_df.groupby([\"DOC_ID\", \"WORD_ID\", \"LABEL\"]).sum()\n",
    "train_grouped.head()"
   ]
  },
  {
   "cell_type": "code",
   "execution_count": 207,
   "id": "8dd37f67-4cd8-4b71-9e7a-2754654e8a97",
   "metadata": {},
   "outputs": [
    {
     "data": {
      "text/html": [
       "<div>\n",
       "<style scoped>\n",
       "    .dataframe tbody tr th:only-of-type {\n",
       "        vertical-align: middle;\n",
       "    }\n",
       "\n",
       "    .dataframe tbody tr th {\n",
       "        vertical-align: top;\n",
       "    }\n",
       "\n",
       "    .dataframe thead th {\n",
       "        text-align: right;\n",
       "    }\n",
       "</style>\n",
       "<table border=\"1\" class=\"dataframe\">\n",
       "  <thead>\n",
       "    <tr style=\"text-align: right;\">\n",
       "      <th></th>\n",
       "      <th>DOC_ID</th>\n",
       "      <th>WORD_ID</th>\n",
       "      <th>LABEL</th>\n",
       "      <th>OCCURENCE</th>\n",
       "    </tr>\n",
       "  </thead>\n",
       "  <tbody>\n",
       "    <tr>\n",
       "      <th>0</th>\n",
       "      <td>0</td>\n",
       "      <td>0</td>\n",
       "      <td>1</td>\n",
       "      <td>66</td>\n",
       "    </tr>\n",
       "    <tr>\n",
       "      <th>1</th>\n",
       "      <td>0</td>\n",
       "      <td>4</td>\n",
       "      <td>1</td>\n",
       "      <td>2</td>\n",
       "    </tr>\n",
       "    <tr>\n",
       "      <th>2</th>\n",
       "      <td>0</td>\n",
       "      <td>5</td>\n",
       "      <td>1</td>\n",
       "      <td>1</td>\n",
       "    </tr>\n",
       "    <tr>\n",
       "      <th>3</th>\n",
       "      <td>0</td>\n",
       "      <td>6</td>\n",
       "      <td>1</td>\n",
       "      <td>1</td>\n",
       "    </tr>\n",
       "    <tr>\n",
       "      <th>4</th>\n",
       "      <td>0</td>\n",
       "      <td>10</td>\n",
       "      <td>1</td>\n",
       "      <td>3</td>\n",
       "    </tr>\n",
       "  </tbody>\n",
       "</table>\n",
       "</div>"
      ],
      "text/plain": [
       "   DOC_ID  WORD_ID  LABEL  OCCURENCE\n",
       "0       0        0      1         66\n",
       "1       0        4      1          2\n",
       "2       0        5      1          1\n",
       "3       0        6      1          1\n",
       "4       0       10      1          3"
      ]
     },
     "execution_count": 207,
     "metadata": {},
     "output_type": "execute_result"
    }
   ],
   "source": [
    "train_grouped = train_grouped.reset_index() # reset_index show doc id in every group\n",
    "train_grouped.head()"
   ]
  },
  {
   "cell_type": "code",
   "execution_count": 209,
   "id": "2afce5b6-6e36-4b8f-bb89-4567f2a379db",
   "metadata": {},
   "outputs": [
    {
     "data": {
      "text/plain": [
       "(271541, 4)"
      ]
     },
     "execution_count": 209,
     "metadata": {},
     "output_type": "execute_result"
    }
   ],
   "source": [
    "train_grouped.shape"
   ]
  },
  {
   "cell_type": "code",
   "execution_count": 211,
   "id": "2e44f577-8f7e-4976-961f-90d04e29834d",
   "metadata": {},
   "outputs": [
    {
     "name": "stdout",
     "output_type": "stream",
     "text": [
      "CPU times: total: 12min 10s\n",
      "Wall time: 13min 52s\n"
     ]
    }
   ],
   "source": [
    "%%time\n",
    "sparse_test_df = make_sparse_matrix(x_test, word_index, y_test)"
   ]
  },
  {
   "cell_type": "code",
   "execution_count": 212,
   "id": "6a11dbb1-a7a1-4e36-983a-8df03a2b882a",
   "metadata": {},
   "outputs": [
    {
     "data": {
      "text/plain": [
       "(264237, 4)"
      ]
     },
     "execution_count": 212,
     "metadata": {},
     "output_type": "execute_result"
    }
   ],
   "source": [
    "sparse_test_df.shape"
   ]
  },
  {
   "cell_type": "code",
   "execution_count": 213,
   "id": "f2a1de44-45d7-4f2c-a3c2-265d06d3ae64",
   "metadata": {},
   "outputs": [
    {
     "data": {
      "text/html": [
       "<div>\n",
       "<style scoped>\n",
       "    .dataframe tbody tr th:only-of-type {\n",
       "        vertical-align: middle;\n",
       "    }\n",
       "\n",
       "    .dataframe tbody tr th {\n",
       "        vertical-align: top;\n",
       "    }\n",
       "\n",
       "    .dataframe thead th {\n",
       "        text-align: right;\n",
       "    }\n",
       "</style>\n",
       "<table border=\"1\" class=\"dataframe\">\n",
       "  <thead>\n",
       "    <tr style=\"text-align: right;\">\n",
       "      <th></th>\n",
       "      <th>DOC_ID</th>\n",
       "      <th>WORD_ID</th>\n",
       "      <th>LABEL</th>\n",
       "      <th>OCCURENCE</th>\n",
       "    </tr>\n",
       "  </thead>\n",
       "  <tbody>\n",
       "    <tr>\n",
       "      <th>0</th>\n",
       "      <td>8</td>\n",
       "      <td>0</td>\n",
       "      <td>1</td>\n",
       "      <td>32</td>\n",
       "    </tr>\n",
       "    <tr>\n",
       "      <th>1</th>\n",
       "      <td>8</td>\n",
       "      <td>4</td>\n",
       "      <td>1</td>\n",
       "      <td>4</td>\n",
       "    </tr>\n",
       "    <tr>\n",
       "      <th>2</th>\n",
       "      <td>8</td>\n",
       "      <td>5</td>\n",
       "      <td>1</td>\n",
       "      <td>1</td>\n",
       "    </tr>\n",
       "    <tr>\n",
       "      <th>3</th>\n",
       "      <td>8</td>\n",
       "      <td>6</td>\n",
       "      <td>1</td>\n",
       "      <td>2</td>\n",
       "    </tr>\n",
       "    <tr>\n",
       "      <th>4</th>\n",
       "      <td>8</td>\n",
       "      <td>7</td>\n",
       "      <td>1</td>\n",
       "      <td>1</td>\n",
       "    </tr>\n",
       "  </tbody>\n",
       "</table>\n",
       "</div>"
      ],
      "text/plain": [
       "   DOC_ID  WORD_ID  LABEL  OCCURENCE\n",
       "0       8        0      1         32\n",
       "1       8        4      1          4\n",
       "2       8        5      1          1\n",
       "3       8        6      1          2\n",
       "4       8        7      1          1"
      ]
     },
     "execution_count": 213,
     "metadata": {},
     "output_type": "execute_result"
    }
   ],
   "source": [
    "test_grouped = sparse_test_df.groupby([\"DOC_ID\", \"WORD_ID\", \"LABEL\"]).sum().reset_index()\n",
    "test_grouped.head()"
   ]
  },
  {
   "cell_type": "code",
   "execution_count": 217,
   "id": "8352ba13-73d6-4435-b756-86992da1991c",
   "metadata": {},
   "outputs": [
    {
     "data": {
      "text/plain": [
       "(124002, 4)"
      ]
     },
     "execution_count": 217,
     "metadata": {},
     "output_type": "execute_result"
    }
   ],
   "source": [
    "test_grouped.shape"
   ]
  },
  {
   "cell_type": "code",
   "execution_count": 223,
   "id": "7af69aef-a455-4779-842c-53bbae9f68e2",
   "metadata": {},
   "outputs": [],
   "source": [
    "# Features\n",
    "x_test = np.loadtxt(TEST_FEATURES_MATRIX, delimiter = \" \")\n",
    "# Target\n",
    "y_test = np.loadtxt(TEST_TARGET_FILE, delimiter = \" \")\n",
    "# Token Probabilities\n",
    "prob_token_spam = np.loadtxt(TOKEN_SPAM_PROB_FILE, delimiter = \" \")\n",
    "prob_token_ham =  np.loadtxt(TOKEN_HAM_PROB_FILE, delimiter = \" \")\n",
    "prob_all_tokens = np.loadtxt(TOKEN_ALL_PROB_FILE, delimiter = \" \")"
   ]
  },
  {
   "cell_type": "markdown",
   "id": "183bab17-af65-4e46-a2f1-87c79664d4ca",
   "metadata": {},
   "source": [
    "# Calculating the joint probability"
   ]
  },
  {
   "cell_type": "markdown",
   "id": "edf3f024-2c94-45e5-b7a2-7fcd24e65cf3",
   "metadata": {},
   "source": [
    " ## Set the prior\n",
    " $$P(Spam \\,| \\,x) = \\frac{P(X \\, | \\, Spam \\,) \\, P(Spam)} {P(X)}$$"
   ]
  },
  {
   "cell_type": "code",
   "execution_count": 227,
   "id": "2d025463-aa0f-4833-b930-111675aee15f",
   "metadata": {},
   "outputs": [],
   "source": [
    "PROB_SPAM = 0.3116"
   ]
  },
  {
   "cell_type": "code",
   "execution_count": 229,
   "id": "8bcd19f7-c185-44c0-8582-4e96d3560b82",
   "metadata": {},
   "outputs": [
    {
     "data": {
      "text/plain": [
       "array([ -1.28501934,  -5.34747592,  -5.52962928, ...,  -9.20946799,\n",
       "       -10.03044854, -10.03044854])"
      ]
     },
     "execution_count": 229,
     "metadata": {},
     "output_type": "execute_result"
    }
   ],
   "source": [
    "np.log(prob_token_spam)"
   ]
  },
  {
   "cell_type": "markdown",
   "id": "3dc7e6bf-3346-4a3e-a1a7-c0da88e5af7e",
   "metadata": {},
   "source": [
    "## Joint probability in log format"
   ]
  },
  {
   "cell_type": "code",
   "execution_count": 232,
   "id": "4e1ec43e-6271-4252-ae93-7824440087fe",
   "metadata": {},
   "outputs": [],
   "source": [
    "joint_log_spam = x_test.dot(np.log(prob_token_spam) - np.log(prob_all_tokens)) + np.log(PROB_SPAM)"
   ]
  },
  {
   "cell_type": "code",
   "execution_count": 234,
   "id": "de4685cf-5065-4756-8ed6-e4b2b12c5f1e",
   "metadata": {},
   "outputs": [
    {
     "data": {
      "text/plain": [
       "array([16.56440831,  3.02588928, 29.03822938, 20.75248164, 18.23776256])"
      ]
     },
     "execution_count": 234,
     "metadata": {},
     "output_type": "execute_result"
    }
   ],
   "source": [
    "joint_log_spam[:5]"
   ]
  },
  {
   "cell_type": "markdown",
   "id": "96110bc2-a781-4d2d-b19a-73d54d7c6721",
   "metadata": {},
   "source": [
    " $$P(Ham \\,| \\,x) = \\frac{P(X \\, | \\, Hpam \\,) \\, (1 - P(Spam))} {P(X)}$$"
   ]
  },
  {
   "cell_type": "code",
   "execution_count": 237,
   "id": "80c32127-87c8-4e90-802f-3fc0277bf841",
   "metadata": {},
   "outputs": [],
   "source": [
    "joint_log_ham = x_test.dot(np.log(prob_token_ham) - np.log(prob_all_tokens)) + np.log(1 - PROB_SPAM)"
   ]
  },
  {
   "cell_type": "code",
   "execution_count": 239,
   "id": "480e3c1a-9793-434b-bb3f-9edc10fe4172",
   "metadata": {},
   "outputs": [
    {
     "data": {
      "text/plain": [
       "1739"
      ]
     },
     "execution_count": 239,
     "metadata": {},
     "output_type": "execute_result"
    }
   ],
   "source": [
    "joint_log_ham.size"
   ]
  },
  {
   "cell_type": "markdown",
   "id": "54efb856-5a39-4da8-85b2-97acef2c23aa",
   "metadata": {},
   "source": [
    "# Making predictions \n",
    "### Checking for teh higher joint probability\n",
    "$$P (SPAM \\, | \\, X) \\, > \\,  P (HAM \\, | \\, X)$$\n",
    "<center>OR</center>\n",
    "<br>\n",
    "$$P (SPAM \\, | \\, X) \\, < \\,  P (HAM \\, | \\, X)$$"
   ]
  },
  {
   "cell_type": "code",
   "execution_count": 242,
   "id": "aa33c8dc-d40f-4605-a5a1-097de9bc3617",
   "metadata": {},
   "outputs": [],
   "source": [
    "prediction = joint_log_spam > joint_log_ham"
   ]
  },
  {
   "cell_type": "code",
   "execution_count": 246,
   "id": "03d24292-4b5b-4532-af4b-a82b363b305f",
   "metadata": {},
   "outputs": [],
   "source": [
    "joint_log_spam = x_test.dot(np.log(prob_token_spam)) + np.log(PROB_SPAM)\n",
    "joint_log_ham = x_test.dot(np.log(prob_token_ham)) + np.log(1 - PROB_SPAM)"
   ]
  },
  {
   "cell_type": "markdown",
   "id": "7ee44be7-4828-40e8-938f-ecfb410ecf4a",
   "metadata": {},
   "source": [
    "# Matrix and Evaluations\n",
    "## Accuracy"
   ]
  },
  {
   "cell_type": "code",
   "execution_count": 251,
   "id": "baf1dcde-01d6-47a0-989f-3055aa835c40",
   "metadata": {},
   "outputs": [
    {
     "name": "stdout",
     "output_type": "stream",
     "text": [
      "Docs classified correctly  1707\n",
      "Docs classified incorrectly  32\n"
     ]
    }
   ],
   "source": [
    "correct_doc = (y_test == prediction).sum()\n",
    "print(\"Docs classified correctly \", correct_doc)\n",
    "numdocs_wrong = x_test.shape[0] - correct_doc\n",
    "print(\"Docs classified incorrectly \", numdocs_wrong)"
   ]
  },
  {
   "cell_type": "code",
   "execution_count": 253,
   "id": "d63c2e6d-2f5d-4356-8e96-8deeab2b782d",
   "metadata": {},
   "outputs": [
    {
     "data": {
      "text/plain": [
       "0.9815986198964922"
      ]
     },
     "execution_count": 253,
     "metadata": {},
     "output_type": "execute_result"
    }
   ],
   "source": [
    "# Accuracy\n",
    "correct_doc/ len(x_test)"
   ]
  },
  {
   "cell_type": "code",
   "execution_count": 255,
   "id": "a4f5ecf3-ef7e-4116-a324-d74551917702",
   "metadata": {},
   "outputs": [
    {
     "name": "stdout",
     "output_type": "stream",
     "text": [
      "Fraction classified incorrectly is 1.84%\n",
      "Accuracy of the model is 98.16%\n"
     ]
    }
   ],
   "source": [
    "# other way to calculate accuracy\n",
    "fraction_wrong = numdocs_wrong/len(x_test)\n",
    "print(\"Fraction classified incorrectly is {:.2%}\".format(fraction_wrong))\n",
    "print(\"Accuracy of the model is {:.2%}\".format(1-fraction_wrong))"
   ]
  },
  {
   "cell_type": "code",
   "execution_count": 257,
   "id": "7d023a9a-f70b-4e2b-b165-447eb59b9e08",
   "metadata": {},
   "outputs": [],
   "source": [
    "# Chart styling Info\n",
    "yaxis_label = \"P(X | Spam)\"\n",
    "xaxis_label = \"P(X | NonSpam)\"\n",
    "\n",
    "# For decision boundary\n",
    "linedata = np.linspace(start = -14000, stop = 1, num=1000)"
   ]
  },
  {
   "cell_type": "code",
   "execution_count": 261,
   "id": "69cd390d-46f6-423a-af94-aed799559adc",
   "metadata": {},
   "outputs": [
    {
     "data": {
      "image/png": "[encoded data removed]",
      "text/plain": [
       "<Figure size 500x500 with 1 Axes>"
      ]
     },
     "metadata": {},
     "output_type": "display_data"
    }
   ],
   "source": [
    "# Chart styling\n",
    "sns.set_style(\"whitegrid\")\n",
    "labels = \"Actual Category\"\n",
    "\n",
    "summary_df = pd.DataFrame({yaxis_label: joint_log_spam, xaxis_label: joint_log_ham,\n",
    "                         labels: y_test})\n",
    "\n",
    "sns.lmplot(x=xaxis_label, y=yaxis_label, data=summary_df, fit_reg=False,\n",
    "          scatter_kws={\"alpha\":0.5,\"s\":25}) #fit_reg =to remove regression line\n",
    "plt.xlim([-2000,1])\n",
    "plt.ylim([-2000,1])\n",
    "plt.plot(linedata, linedata, color = \"black\")\n",
    "\n",
    "plt.show()"
   ]
  },
  {
   "cell_type": "code",
   "execution_count": 265,
   "id": "62b51817-3787-47a4-92ca-b379d3042ba3",
   "metadata": {},
   "outputs": [
    {
     "data": {
      "image/png": "[encoded data removed]",
      "text/plain": [
       "<Figure size 500x500 with 1 Axes>"
      ]
     },
     "metadata": {},
     "output_type": "display_data"
    }
   ],
   "source": [
    "my_colours = [\"#AB3A2C\",\"#4A71C0\"]\n",
    "\n",
    "sns.lmplot(x=xaxis_label, y=yaxis_label, data=summary_df, fit_reg=False, legend=False,\n",
    "          scatter_kws={\"alpha\":0.7,\"s\":25}, hue=labels, markers=[\"o\",\"x\"], palette=my_colours) #fit_reg =to remove regression line\n",
    "plt.xlim([-500,1])\n",
    "plt.ylim([-500,1])\n",
    "plt.plot(linedata, linedata, color = \"black\")\n",
    "\n",
    "plt.legend((\"NonSpam\",\"spam\",\"Decision Boundary\"), loc= \"lower right\", fontsize=14)\n",
    "plt.show()"
   ]
  },
  {
   "cell_type": "markdown",
   "id": "e7ff84cf-5356-4c6f-bfef-e18894529c20",
   "metadata": {},
   "source": [
    "### False Positives and False Negatives"
   ]
  },
  {
   "cell_type": "code",
   "execution_count": 268,
   "id": "f8bd9d0f-fb82-4323-849b-33959322db11",
   "metadata": {},
   "outputs": [
    {
     "data": {
      "text/plain": [
       "(array([False,  True]), array([1129,  610], dtype=int64))"
      ]
     },
     "execution_count": 268,
     "metadata": {},
     "output_type": "execute_result"
    }
   ],
   "source": [
    "np.unique(prediction, return_counts = True)"
   ]
  },
  {
   "cell_type": "code",
   "execution_count": 270,
   "id": "c191dc8d-52bc-435d-861c-29691e4cd1ec",
   "metadata": {},
   "outputs": [],
   "source": [
    "true_pos = (y_test == 1) & (prediction == 1) # & bitwise AND operator"
   ]
  },
  {
   "cell_type": "code",
   "execution_count": 272,
   "id": "51323d67-d7f4-4ee1-8982-fd13b5006224",
   "metadata": {},
   "outputs": [
    {
     "data": {
      "text/plain": [
       "591"
      ]
     },
     "execution_count": 272,
     "metadata": {},
     "output_type": "execute_result"
    }
   ],
   "source": [
    "true_pos.sum()"
   ]
  },
  {
   "cell_type": "code",
   "execution_count": 274,
   "id": "cb2eb0aa-7228-4af3-8f24-2cbb1faaadcf",
   "metadata": {},
   "outputs": [
    {
     "data": {
      "text/plain": [
       "19"
      ]
     },
     "execution_count": 274,
     "metadata": {},
     "output_type": "execute_result"
    }
   ],
   "source": [
    "false_pos = (y_test == 0) & (prediction == 1) # & bitwise AND operator\n",
    "false_pos.sum()"
   ]
  },
  {
   "cell_type": "code",
   "execution_count": 276,
   "id": "41efcbf5-ae19-492d-9931-796b0b5bc017",
   "metadata": {},
   "outputs": [
    {
     "data": {
      "text/plain": [
       "13"
      ]
     },
     "execution_count": 276,
     "metadata": {},
     "output_type": "execute_result"
    }
   ],
   "source": [
    "false_neg = (y_test == 1) & (prediction == 0) # & bitwise AND operator\n",
    "false_neg.sum()"
   ]
  },
  {
   "cell_type": "markdown",
   "id": "a1a595a0-bec6-499b-9d94-c76bc6efe782",
   "metadata": {},
   "source": [
    "## Recall score"
   ]
  },
  {
   "cell_type": "code",
   "execution_count": 281,
   "id": "468ed655-6f6e-43da-bef2-d15c876c3ed7",
   "metadata": {},
   "outputs": [
    {
     "name": "stdout",
     "output_type": "stream",
     "text": [
      "Recall score is 97.85%\n"
     ]
    }
   ],
   "source": [
    "recall_score = true_pos.sum() / (true_pos.sum() + false_neg.sum())\n",
    "print(\"Recall score is {:.2%}\".format(recall_score))"
   ]
  },
  {
   "cell_type": "markdown",
   "id": "07b05fb1-706b-43c7-aff7-d0dfbaa4e25e",
   "metadata": {},
   "source": [
    "## Precision score"
   ]
  },
  {
   "cell_type": "code",
   "execution_count": 284,
   "id": "9552ed70-db90-4079-bdb9-7f5f4f164ef6",
   "metadata": {},
   "outputs": [
    {
     "name": "stdout",
     "output_type": "stream",
     "text": [
      "Precision Score is 0.969 \n"
     ]
    }
   ],
   "source": [
    "precision_score = true_pos.sum() / (true_pos.sum() + false_pos.sum())\n",
    "print(\"Precision Score is {:.3} \".format(precision_score))"
   ]
  },
  {
   "cell_type": "markdown",
   "id": "0cdfd411-ee04-48c7-b476-dcfcd3d78a41",
   "metadata": {},
   "source": [
    "## F-Score or F1 Score"
   ]
  },
  {
   "cell_type": "code",
   "execution_count": 288,
   "id": "1aa87024-0fac-4ec5-b52b-02840a3cd089",
   "metadata": {},
   "outputs": [
    {
     "name": "stdout",
     "output_type": "stream",
     "text": [
      "F-Score is 0.9736408566721582\n"
     ]
    }
   ],
   "source": [
    "f1_score = 2*(precision_score * recall_score) / (precision_score + recall_score)\n",
    "print(\"F-Score is {:2}\".format(f1_score))"
   ]
  },
  {
   "cell_type": "code",
   "execution_count": null,
   "id": "fbf0917b-33e7-4d52-bef5-258d984d69c6",
   "metadata": {},
   "outputs": [],
   "source": []
  },
  {
   "cell_type": "code",
   "execution_count": null,
   "id": "35c68cd9-e163-4a34-9c79-644b1e6073bd",
   "metadata": {},
   "outputs": [],
   "source": []
  }
 ],
 "metadata": {
  "kernelspec": {
   "display_name": "Python 3 (ipykernel)",
   "language": "python",
   "name": "python3"
  },
  "language_info": {
   "codemirror_mode": {
    "name": "ipython",
    "version": 3
   },
   "file_extension": ".py",
   "mimetype": "text/x-python",
   "name": "python",
   "nbconvert_exporter": "python",
   "pygments_lexer": "ipython3",
   "version": "3.12.3"
  }
 },
 "nbformat": 4,
 "nbformat_minor": 5
}
